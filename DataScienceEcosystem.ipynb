{
 "cells": [
  {
   "cell_type": "markdown",
   "id": "036871c5",
   "metadata": {},
   "source": [
    "# Data Science Tools and Ecosystem"
   ]
  },
  {
   "cell_type": "markdown",
   "id": "6461e6b8",
   "metadata": {},
   "source": [
    "In this notebook, Data Science Tools and Ecosystem are summarized."
   ]
  },
  {
   "cell_type": "markdown",
   "id": "8cb0f92d",
   "metadata": {},
   "source": [
    "Some of the popular languages that Data Scientists use are:\n",
    "    1. Python  \n",
    "    2. R  \n",
    "    3. SQL  \n",
    "    4. Java  \n",
    "    5. Scala"
   ]
  },
  {
   "cell_type": "markdown",
   "id": "70b732d1",
   "metadata": {},
   "source": [
    "Some of the commonly used libraries used by Data Scientists include:\n",
    "    1. NumPy  \n",
    "    2. Pandas  \n",
    "    3. Scikit-learn  \n",
    "    4. TensorFlow  \n",
    "    5. Matplotlib"
   ]
  },
  {
   "cell_type": "markdown",
   "id": "1a1e2757",
   "metadata": {},
   "source": [
    "| Data Science Tools |  \n",
    "    |--------------------|  \n",
    "    | Jupyter Notebook  |  \n",
    "    | RStudio           |  \n",
    "    | Apache Zeppelin   |"
   ]
  },
  {
   "cell_type": "markdown",
   "id": "1190f683",
   "metadata": {},
   "source": [
    "### Below are a few examples of evaluating arithmetic expressions in Python."
   ]
  },
  {
   "cell_type": "code",
   "execution_count": null,
   "id": "19fd2b39",
   "metadata": {},
   "outputs": [],
   "source": [
    "# This is a simple arithmetic expression to multiply then add integers.\n",
    "(3*4) + 5"
   ]
  },
  {
   "cell_type": "code",
   "execution_count": null,
   "id": "47c616d2",
   "metadata": {},
   "outputs": [],
   "source": [
    "# This will convert 200 minutes to hours by dividing by 60.\n",
    "200 / 60"
   ]
  },
  {
   "cell_type": "markdown",
   "id": "c79a589a",
   "metadata": {},
   "source": [
    "**Objectives:**  \n",
    "    - List popular languages for Data Science.  \n",
    "    - Identify commonly used Data Science libraries.  \n",
    "    - Understand Data Science tools.  \n",
    "    - Perform simple arithmetic operations using Python.  \n",
    "    - Share Jupyter notebooks on GitHub."
   ]
  },
  {
   "cell_type": "markdown",
   "id": "18c0ba09",
   "metadata": {},
   "source": [
    "## Author  \n",
    "John Doe"
   ]
  }
 ],
 "metadata": {},
 "nbformat": 4,
 "nbformat_minor": 5
}
